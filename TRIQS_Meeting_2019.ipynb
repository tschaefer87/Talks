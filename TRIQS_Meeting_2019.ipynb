{
 "cells": [
  {
   "cell_type": "markdown",
   "metadata": {},
   "source": [
    "### The TRIQS library beyond impurity solvers: from simple mean-field theory to TRILEX\n",
    "\n",
    "\n",
    "*Thomas Schäfer, Erwin-Schrödinger Fellow at Collège de France and École Polytechnique*<br>\n",
    "TRIQS meeting 2019, 12th - 14th June 2019, Collège de France\n",
    "\n",
    "**Abstract**: Without a doubt the impurity solvers available as TRIQS applications are serving as power horses in many working groups. In my talk, I will convince you that the TRIQS library is a valuable and easy to use tool also in the development and implementation of many-body algorithms. Starting from the calculation of a non-interacting susceptibility, I will demonstrate how the random phase approximation can be implemented elegantly and applied to the 2D Hubbard model on a square lattice. Afterwards, the implementation of a cutting-edge many-body method, TRILEX, will be discussed."
   ]
  },
  {
   "cell_type": "code",
   "execution_count": null,
   "metadata": {},
   "outputs": [],
   "source": [
    "from pytriqs.plot.mpl_interface import plt\n",
    "import numpy as np\n",
    "from numpy import pi\n",
    "from pytriqs.lattice import BravaisLattice, BrillouinZone\n",
    "from pytriqs.gf import MeshBrillouinZone, MeshImFreq, MeshImTime, Gf, MeshProduct, \\\n",
    "                       Idx, inverse, make_adjoint_mesh, make_gf_from_fourier,      \\\n",
    "                       make_gf_from_inverse_fourier\n",
    "from pytriqs.lattice.tight_binding import TightBinding, dos, energies_on_bz_path\n",
    "from pytriqs.archive import HDFArchive\n",
    "from pytriqs.plot.mpl_interface import oplot, oploti, oplotr\n",
    "from scipy.optimize import fsolve, brentq\n",
    "import warnings\n",
    "warnings.filterwarnings(\"ignore\")\n",
    "import matplotlib.pyplot as plt\n",
    "plt.rcParams[\"figure.figsize\"] = (4,4)"
   ]
  },
  {
   "cell_type": "markdown",
   "metadata": {},
   "source": [
    "Parameter definition\n",
    "---"
   ]
  },
  {
   "cell_type": "code",
   "execution_count": null,
   "metadata": {},
   "outputs": [],
   "source": [
    "beta = 4.   # inverse temperature\n",
    "mu   = 0.   # chemical potential\n",
    "\n",
    "n_k  = 64   # number of (linear) fermionic momenta\n",
    "n_iw = 20   # number of (positive) fermionic Matsubara frequencies\n",
    "n_q  = n_k  # number of (linear) bosonic momenta\n",
    "n_iW = n_iw # number of (positive) bosonic Matsubara frequencies"
   ]
  },
  {
   "cell_type": "code",
   "execution_count": null,
   "metadata": {},
   "outputs": [],
   "source": [
    "# define the Bravais lattice: a square lattice in 2D\n",
    "BL = BravaisLattice(units = [(1, 0), (0, 1)])\n",
    "\n",
    "# define the tight-binding model, i.e., the hopping parameters\n",
    "t = -1.0               # nearest neighbor hopping in real space\n",
    "\n",
    "hop= {  (1,  0)  :  [[ t]],       \n",
    "        (-1, 0)  :  [[ t]],     \n",
    "        (0,  1)  :  [[ t]], \n",
    "        (0, -1)  :  [[ t]]}\n",
    "\n",
    "TB = TightBinding(BL, hop)"
   ]
  },
  {
   "cell_type": "code",
   "execution_count": null,
   "metadata": {},
   "outputs": [],
   "source": [
    "# Compute the density of states\n",
    "d = dos(TB, n_kpts=800, n_eps=101, name='')[0]"
   ]
  },
  {
   "cell_type": "code",
   "execution_count": null,
   "metadata": {},
   "outputs": [],
   "source": [
    "oplot(d,'-o')\n",
    "plt.xlim(-4.5, 4.5)\n",
    "plt.ylim(0., 0.4)\n",
    "plt.xlabel(r\"$\\varepsilon$\", fontsize=18)\n",
    "plt.ylabel(r\"$\\rho_{0}(\\varepsilon)$\", fontsize=18)\n",
    "plt.xticks(fontsize=14)\n",
    "plt.yticks(fontsize=14)\n",
    "plt.show()"
   ]
  },
  {
   "cell_type": "code",
   "execution_count": null,
   "metadata": {},
   "outputs": [],
   "source": [
    "# calculation of the dispersion for a given k-point\n",
    "# to be put into the TRIQS-library\n",
    "def eps(BL, TB, k):    \n",
    "    return energies_on_bz_path(TB, \\\n",
    "            [k[i]*1./(2.*pi) for i in range(0,BL.dim)], \\\n",
    "            [k[i]*1./(2.*pi) for i in range(0,BL.dim)], \\\n",
    "            1)[0,0]"
   ]
  },
  {
   "cell_type": "code",
   "execution_count": null,
   "metadata": {},
   "outputs": [],
   "source": [
    "k_mesh    = MeshBrillouinZone(BrillouinZone(BL), n_k)\n",
    "iw_mesh   = MeshImFreq(beta, 'Fermion', n_iw)\n",
    "k_iw_mesh = MeshProduct(k_mesh, iw_mesh)\n",
    "\n",
    "q_mesh    = MeshBrillouinZone(BrillouinZone(BL), n_q)\n",
    "iW_mesh   = MeshImFreq(beta, 'Boson', n_iW)\n",
    "q_iW_mesh = MeshProduct(q_mesh, iW_mesh)"
   ]
  },
  {
   "cell_type": "markdown",
   "metadata": {},
   "source": [
    "non-interacting lattice Green function\n",
    "--\n",
    "\n",
    "#### $G_{0}=\\frac{1}{i\\omega_{n} - \\varepsilon_{\\mathbf{k}} + \\mu}$"
   ]
  },
  {
   "cell_type": "code",
   "execution_count": null,
   "metadata": {},
   "outputs": [],
   "source": [
    "G0 = Gf(mesh=k_iw_mesh, target_shape=[])\n",
    "\n",
    "for k, iw in k_iw_mesh:\n",
    "    G0[k,iw] = 1. / (iw - eps(BL,TB,k) + mu)"
   ]
  },
  {
   "cell_type": "code",
   "execution_count": null,
   "metadata": {},
   "outputs": [],
   "source": [
    "print G0"
   ]
  },
  {
   "cell_type": "code",
   "execution_count": null,
   "metadata": {},
   "outputs": [],
   "source": [
    "k_linear = np.linspace(-pi, pi, 10. * n_k, endpoint=True)\n",
    "kx, ky = np.meshgrid(k_linear, k_linear)\n",
    "\n",
    "to_plot = lambda kx, ky: -1. / pi * G0((kx,ky,0),0).imag"
   ]
  },
  {
   "cell_type": "code",
   "execution_count": null,
   "metadata": {},
   "outputs": [],
   "source": [
    "gs=plt.GridSpec(1,1)\n",
    "plt.set_cmap('terrain')\n",
    "\n",
    "ax = plt.subplot(gs[0],aspect=\"equal\")\n",
    "plt.pcolormesh(kx, ky, np.vectorize(to_plot)(kx, ky))\n",
    "plt.colorbar(shrink=0.8)\n",
    "plt.xlabel(r'$k_{x}$', fontsize=18)\n",
    "plt.ylabel(r'$k_{y}$', fontsize=18)\n",
    "plt.xlim(-pi,pi)\n",
    "plt.ylim(-pi,pi)\n",
    "plt.xticks([-np.pi, 0, np.pi],[r\"$-\\pi$\", r\"0\", r\"$\\pi$\"], fontsize=18)    \n",
    "plt.yticks([-np.pi, 0, np.pi],[r\"$-\\pi$\", r\"0\", r\"$\\pi$\"], fontsize=18)\n",
    "plt.title(r'-$1/\\pi$ Im $G(\\mathbf{k}, i\\omega_{0})$', fontsize=20)\n",
    "plt.show()"
   ]
  },
  {
   "cell_type": "markdown",
   "metadata": {},
   "source": [
    "## non-interacting susceptibility (Lindhard bubble)\n",
    "\n",
    "#### $ \\chi_0(\\mathbf{q}, i\\Omega_n) = \n",
    "    -\\frac{1}{\\beta}\\sum\\limits_{\\mathbf{k}, m} \n",
    "    G_0(\\mathbf{k}, i\\omega_m)G_0(\\mathbf{k}+\\mathbf{q}, i\\omega_m + i\\Omega_n) $\n",
    "\n",
    "#### $  \\chi_0(\\mathbf{r},\\tau) = G_0(\\mathbf{r},\\tau)G_0(-\\mathbf{r},\\beta -\\tau) $ \n",
    "\n",
    "#### $\\chi_0(\\mathbf{q}, i\\Omega_{n}) \\equiv \n",
    "  \\mathcal{F}_{\\{\\mathbf{r},\\tau\\} \\rightarrow \\{\\mathbf{q}, i\\Omega_n\\}} \n",
    "  \\big\\{ \\chi_0(\\mathbf{r}, \\tau) \\big\\}$"
   ]
  },
  {
   "cell_type": "code",
   "execution_count": null,
   "metadata": {},
   "outputs": [],
   "source": [
    "r_mesh     = make_adjoint_mesh(k_mesh)\n",
    "tau_mesh   = make_adjoint_mesh(iw_mesh)\n",
    "r_tau_mesh = MeshProduct(r_mesh, tau_mesh)\n",
    "r_iw_mesh  = MeshProduct(r_mesh, iw_mesh)\n",
    "\n",
    "G0_r_iw  = Gf(mesh=r_iw_mesh, target_shape=[])\n",
    "G0_r_tau = Gf(mesh=r_tau_mesh, target_shape=[])\n",
    "\n",
    "for iw in iw_mesh:\n",
    "    G0_r_iw[:,iw] = make_gf_from_fourier(G0[:,iw])\n",
    "\n",
    "for r in r_mesh:\n",
    "    G0_r_tau[r,:] = make_gf_from_fourier(G0_r_iw[r,:])"
   ]
  },
  {
   "cell_type": "code",
   "execution_count": null,
   "metadata": {},
   "outputs": [],
   "source": [
    "G0_minus_r_minus_tau = G0_r_tau.copy()\n",
    "G0_minus_r_minus_tau.zero()\n",
    "for r, tau in r_tau_mesh:\n",
    "    minus_r = -(np.array(r.value, dtype=np.int))\n",
    "    minus_tau = beta - tau\n",
    "    G0_minus_r_minus_tau[r,tau] = G0_r_tau(minus_r, minus_tau)"
   ]
  },
  {
   "cell_type": "code",
   "execution_count": null,
   "metadata": {},
   "outputs": [],
   "source": [
    "chi0_r_tau = G0_r_tau * G0_minus_r_minus_tau"
   ]
  },
  {
   "cell_type": "code",
   "execution_count": null,
   "metadata": {},
   "outputs": [],
   "source": [
    "print chi0_r_tau"
   ]
  },
  {
   "cell_type": "code",
   "execution_count": null,
   "metadata": {},
   "outputs": [],
   "source": [
    "chi0_r_iW = Gf(mesh=MeshProduct(r_mesh, iW_mesh), target_shape=[])\n",
    "chi0 = Gf(mesh=q_iW_mesh, target_shape=[])\n",
    "\n",
    "for r in r_mesh:\n",
    "    chi0_r_iW[r,:] = make_gf_from_fourier(chi0_r_tau[r,:])\n",
    "\n",
    "for iW in iW_mesh:\n",
    "    chi0[:,iW] = make_gf_from_fourier(chi0_r_iW[:,iW])"
   ]
  },
  {
   "cell_type": "code",
   "execution_count": null,
   "metadata": {},
   "outputs": [],
   "source": [
    "q_linear = np.linspace(0, 2. * pi, 10. * n_q, endpoint=True)\n",
    "qx, qy = np.meshgrid(q_linear, q_linear)\n",
    "\n",
    "to_plot = lambda qx, qy: chi0((qx,qy,0),0).real"
   ]
  },
  {
   "cell_type": "code",
   "execution_count": null,
   "metadata": {},
   "outputs": [],
   "source": [
    "ax = plt.subplot(gs[0],aspect=\"equal\")\n",
    "plt.pcolormesh(qx, qy, np.vectorize(to_plot)(qx, qy))\n",
    "plt.colorbar(shrink=0.8)\n",
    "plt.xlabel(r'$q_{x}$', fontsize=18)\n",
    "plt.ylabel(r'$q_{y}$', fontsize=18)\n",
    "plt.xlim(0,2*pi)\n",
    "plt.ylim(0,2*pi)\n",
    "plt.xticks([0, pi/2, pi, 3.*pi/2, 2*pi],[r\"0\", r\"$\\pi/2$\", r\"$\\pi$\", r\"$3\\pi/2$\", r\"$2\\pi$\"], fontsize=18)    \n",
    "plt.yticks([0, pi/2, pi, 3.*pi/2, 2*pi],[r\"0\", r\"$\\pi/2$\", r\"$\\pi$\", r\"$3\\pi/2$\", r\"$2\\pi$\"], fontsize=18)\n",
    "plt.title(r'Re $\\chi_{0}(\\mathbf{q}, i\\Omega_{0})$', fontsize=20)\n",
    "plt.show()"
   ]
  },
  {
   "cell_type": "code",
   "execution_count": null,
   "metadata": {},
   "outputs": [],
   "source": [
    "%%timeit -r 1\n",
    "for r,tau in r_tau_mesh:\n",
    "    minus_r = -(np.array(r.value, dtype=np.int))\n",
    "    minus_tau = beta - tau\n",
    "    G0_minus_r_minus_tau[r,tau] = G0_r_tau(minus_r, minus_tau)\n",
    "\n",
    "for iw in iw_mesh:\n",
    "    G0_r_iw[:,iw] = make_gf_from_fourier(G0[:,iw])\n",
    "\n",
    "for r in r_mesh:\n",
    "    G0_r_tau[r,:] = make_gf_from_fourier(G0_r_iw[r,:])\n",
    "\n",
    "chi0_r_tau = G0_r_tau * G0_minus_r_minus_tau\n",
    "\n",
    "for r in r_mesh:\n",
    "    chi0_r_iW[r,:] = make_gf_from_fourier(chi0_r_tau[r,:])\n",
    "for iW in iW_mesh:\n",
    "    chi0[:,iW] = make_gf_from_fourier(chi0_r_iW[:,iW])"
   ]
  },
  {
   "cell_type": "markdown",
   "metadata": {},
   "source": [
    "C++ implementation\n",
    "---"
   ]
  },
  {
   "cell_type": "code",
   "execution_count": null,
   "metadata": {},
   "outputs": [],
   "source": [
    "%reload_ext cpp2py.magic"
   ]
  },
  {
   "cell_type": "code",
   "execution_count": null,
   "metadata": {},
   "outputs": [],
   "source": [
    "%%cpp2py -C pytriqs\n",
    "#include <triqs/gfs.hpp>\n",
    "using namespace triqs::gfs;\n",
    "        \n",
    "using g_k_iw_type     = gf_view<cartesian_product<brillouin_zone, imfreq>, scalar_valued>;\n",
    "using chi_r_tau_type  = gf<cartesian_product<cyclic_lattice, imtime>, scalar_valued>;\n",
    "\n",
    "triqs::clef::placeholder<0> r_;\n",
    "triqs::clef::placeholder<1> tau_;\n",
    "\n",
    "g_k_iw_type bubble(g_k_iw_type g0) {\n",
    "    auto g0_r_tau = make_gf_from_fourier<0,1>(g0);\n",
    "    \n",
    "    auto [r_mesh, tau_mesh] = g0_r_tau.mesh();\n",
    "    double beta = tau_mesh.domain().beta;\n",
    "    \n",
    "    auto tau_mesh_bosonic = gf_mesh<imtime>{beta, Boson, tau_mesh.size()};\n",
    "    \n",
    "    auto chi0 = chi_r_tau_type{{r_mesh, tau_mesh_bosonic}};\n",
    "\n",
    "    chi0[r_, tau_] << g0_r_tau(-r_, beta - tau_) * g0_r_tau(r_, tau_); \n",
    "\n",
    "    return make_gf_from_fourier<0,1>(chi0);\n",
    "}"
   ]
  },
  {
   "cell_type": "code",
   "execution_count": null,
   "metadata": {},
   "outputs": [],
   "source": [
    "%%timeit -r 1\n",
    "chi0 = bubble(G0)"
   ]
  },
  {
   "cell_type": "code",
   "execution_count": null,
   "metadata": {},
   "outputs": [],
   "source": [
    "ax = plt.subplot(gs[0],aspect=\"equal\")\n",
    "plt.pcolormesh(qx, qy, np.vectorize(to_plot)(qx, qy))\n",
    "plt.colorbar(shrink=0.8)\n",
    "plt.xlabel(r'$q_{x}$', fontsize=18)\n",
    "plt.ylabel(r'$q_{y}$', fontsize=18)\n",
    "plt.xlim(0,2*pi)\n",
    "plt.ylim(0,2*pi)\n",
    "plt.xticks([0, pi/2, pi, 3.*pi/2, 2*pi],[r\"0\", r\"$\\pi/2$\", r\"$\\pi$\", r\"$3\\pi/2$\", r\"$2\\pi$\"], fontsize=18)    \n",
    "plt.yticks([0, pi/2, pi, 3.*pi/2, 2*pi],[r\"0\", r\"$\\pi/2$\", r\"$\\pi$\", r\"$3\\pi/2$\", r\"$2\\pi$\"], fontsize=18)\n",
    "plt.title(r'Re $\\chi_{0}(\\mathbf{q}, i\\Omega_{0})$', fontsize=20)\n",
    "plt.show()"
   ]
  },
  {
   "cell_type": "markdown",
   "metadata": {},
   "source": [
    "Random phase approximation (RPA)\n",
    "----\n",
    "\n",
    "Bethe-Salpeter equation (with our definition of $\\chi_{0}$):\n",
    "#### $ \\chi = \\chi_0 + \\chi_0 \\Gamma \\chi = \\frac{2\\chi_0}{1 - \\Gamma \\chi_0} $\n",
    "\n",
    "random phase approximation: \n",
    "#### $\\Gamma = U$\n",
    "\n",
    "leads to\n",
    "#### $\\chi^{RPA}_{sp}(\\mathbf{q},i\\Omega_{n})=\\frac{2\\chi_{0}(\\mathbf{q},i\\Omega_{n})}{1 - U\\chi_{0}(\\mathbf{q},i\\Omega_{n})}$"
   ]
  },
  {
   "cell_type": "code",
   "execution_count": null,
   "metadata": {},
   "outputs": [],
   "source": [
    "U = 2.\n",
    "chi_RPA = 2. * chi0 * inverse(1. - U * chi0)"
   ]
  },
  {
   "cell_type": "code",
   "execution_count": null,
   "metadata": {},
   "outputs": [],
   "source": [
    "to_plot = lambda qx, qy: chi_RPA((qx,qy,0),0).real"
   ]
  },
  {
   "cell_type": "code",
   "execution_count": null,
   "metadata": {},
   "outputs": [],
   "source": [
    "ax = plt.subplot(gs[0],aspect=\"equal\")\n",
    "plt.pcolormesh(qx, qy, np.vectorize(to_plot)(qx, qy))\n",
    "plt.colorbar(shrink=0.8)\n",
    "plt.xlabel(r'$q_{x}$', fontsize=18)\n",
    "plt.ylabel(r'$q_{y}$', fontsize=18)\n",
    "plt.xlim(0,2*pi)\n",
    "plt.ylim(0,2*pi)\n",
    "plt.xticks([0, pi/2, pi, 3.*pi/2, 2*pi],[r\"0\", r\"$\\pi/2$\", r\"$\\pi$\", r\"$3\\pi/2$\", r\"$2\\pi$\"], fontsize=18)    \n",
    "plt.yticks([0, pi/2, pi, 3.*pi/2, 2*pi],[r\"0\", r\"$\\pi/2$\", r\"$\\pi$\", r\"$3\\pi/2$\", r\"$2\\pi$\"], fontsize=18)\n",
    "plt.title(r'Re $\\chi^{RPA}(\\mathbf{q}, i\\Omega_{0})$', fontsize=20)\n",
    "plt.show()"
   ]
  },
  {
   "cell_type": "code",
   "execution_count": null,
   "metadata": {},
   "outputs": [],
   "source": []
  }
 ],
 "metadata": {
  "kernelspec": {
   "display_name": "Python 2",
   "language": "python",
   "name": "python2"
  },
  "language_info": {
   "codemirror_mode": {
    "name": "ipython",
    "version": 2
   },
   "file_extension": ".py",
   "mimetype": "text/x-python",
   "name": "python",
   "nbconvert_exporter": "python",
   "pygments_lexer": "ipython2",
   "version": "2.7.12"
  }
 },
 "nbformat": 4,
 "nbformat_minor": 2
}
